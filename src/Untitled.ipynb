{
 "cells": [
  {
   "cell_type": "code",
   "execution_count": 5,
   "id": "7d3e12ad-3790-40ef-876a-5e223098eb52",
   "metadata": {},
   "outputs": [
    {
     "name": "stdout",
     "output_type": "stream",
     "text": [
      "Python version: 3.10.8 (tags/v3.10.8:aaaf517, Oct 11 2022, 16:50:30) [MSC v.1933 64 bit (AMD64)]\n",
      "Platform: win32\n",
      "PATH: C:\\Program Files\\Common Files\\Oracle\\Java\\javapath;C:\\Program Files (x86)\\Common Files\\Oracle\\Java\\java8path;C:\\Program Files (x86)\\Common Files\\Oracle\\Java\\javapath;C:\\WINDOWS\\system32;C:\\WINDOWS;C:\\WINDOWS\\System32\\Wbem;C:\\WINDOWS\\System32\\WindowsPowerShell\\v1.0\\;C:\\WINDOWS\\System32\\OpenSSH\\;C:\\Program Files\\Microsoft SQL Server\\Client SDK\\ODBC\\170\\Tools\\Binn\\;C:\\Program Files (x86)\\Microsoft SQL Server\\150\\Tools\\Binn\\;C:\\Program Files\\Microsoft SQL Server\\150\\Tools\\Binn\\;C:\\Program Files\\Microsoft SQL Server\\150\\DTS\\Binn\\;C:\\Program Files\\Microsoft SQL Server\\120\\Tools\\Binn\\;C:\\Program Files\\WireSock VPN Client\\bin\\;C:\\Program Files\\dotnet\\;C:\\Program Files\\Microsoft VS Code\\bin;C:\\Program Files\\nodejs\\;C:\\Program Files\\Git\\cmd;C:\\Program Files\\Docker\\Docker\\resources\\bin;C:\\Users\\elnaa\\AppData\\Local\\Microsoft\\WindowsApps;C:\\Program Files\\JetBrains\\PyCharm 2024.3.4\\bin;;C:\\Users\\elnaa\\AppData\\Roaming\\npm;C:\\Users\\elnaa\\AppData\\Local\\Programs\\Python\\Python310;C:\\Users\\elnaa\\AppData\\Local\\Programs\\Python\\Python310\\Scripts;\n",
      "ctypes.util.find_library('cairo'): None\n",
      "Failed to load libcairo-2.dll: Could not find module 'libcairo-2.dll' (or one of its dependencies). Try using the full path with constructor syntax.\n",
      "Failed to load cairo-2.dll: Could not find module 'cairo-2.dll' (or one of its dependencies). Try using the full path with constructor syntax.\n",
      "Failed to load cairo.dll: Could not find module 'cairo.dll' (or one of its dependencies). Try using the full path with constructor syntax.\n",
      "pycairo is installed. Version: 1.28.0\n"
     ]
    }
   ],
   "source": [
    "import ctypes\n",
    "import ctypes.util\n",
    "import sys\n",
    "import os\n",
    "\n",
    "print(\"Python version:\", sys.version)\n",
    "print(\"Platform:\", sys.platform)\n",
    "print(\"PATH:\", os.environ.get(\"PATH\"))\n",
    "\n",
    "# Try to find Cairo using ctypes.util.find_library\n",
    "cairo_lib = ctypes.util.find_library('cairo')\n",
    "print(\"ctypes.util.find_library('cairo'):\", cairo_lib)\n",
    "\n",
    "# Try loading directly common Windows dll names\n",
    "dll_names = [\"libcairo-2.dll\", \"cairo-2.dll\", \"cairo.dll\"]\n",
    "for dll in dll_names:\n",
    "    try:\n",
    "        lib = ctypes.CDLL(dll)\n",
    "        print(f\"Loaded {dll} successfully!\")\n",
    "    except OSError as e:\n",
    "        print(f\"Failed to load {dll}: {e}\")\n",
    "\n",
    "# Check if pycairo is installed and importable\n",
    "try:\n",
    "    import cairo\n",
    "    print(\"pycairo is installed. Version:\", cairo.version)\n",
    "except ImportError as e:\n",
    "    print(\"pycairo is not installed:\", e)\n"
   ]
  },
  {
   "cell_type": "code",
   "execution_count": 4,
   "id": "b313b9bc-9114-4657-9345-2bb616c0d2ea",
   "metadata": {},
   "outputs": [
    {
     "ename": "OSError",
     "evalue": "no library called \"cairo-2\" was found\nno library called \"cairo\" was found\nno library called \"libcairo-2\" was found\ncannot load library 'libcairo.so.2': error 0x7e.  Additionally, ctypes.util.find_library() did not manage to locate a library called 'libcairo.so.2'\ncannot load library 'libcairo.2.dylib': error 0x7e.  Additionally, ctypes.util.find_library() did not manage to locate a library called 'libcairo.2.dylib'\ncannot load library 'libcairo-2.dll': error 0x7e.  Additionally, ctypes.util.find_library() did not manage to locate a library called 'libcairo-2.dll'",
     "output_type": "error",
     "traceback": [
      "\u001b[1;31m---------------------------------------------------------------------------\u001b[0m",
      "\u001b[1;31mOSError\u001b[0m                                   Traceback (most recent call last)",
      "Cell \u001b[1;32mIn[4], line 2\u001b[0m\n\u001b[0;32m      1\u001b[0m \u001b[38;5;28;01mimport\u001b[39;00m\u001b[38;5;250m \u001b[39m\u001b[38;5;21;01mos\u001b[39;00m\n\u001b[1;32m----> 2\u001b[0m \u001b[38;5;28;01mimport\u001b[39;00m\u001b[38;5;250m \u001b[39m\u001b[38;5;21;01mcairosvg\u001b[39;00m\n\u001b[0;32m      4\u001b[0m \u001b[38;5;66;03m# Paths\u001b[39;00m\n\u001b[0;32m      5\u001b[0m svg_folder \u001b[38;5;241m=\u001b[39m \u001b[38;5;124m\"\u001b[39m\u001b[38;5;124mdata/flags\u001b[39m\u001b[38;5;124m\"\u001b[39m\n",
      "File \u001b[1;32m~\\OneDrive\\Desktop\\ML DS\\DS_project\\venv\\lib\\site-packages\\cairosvg\\__init__.py:25\u001b[0m\n\u001b[0;32m     21\u001b[0m VERSION \u001b[38;5;241m=\u001b[39m __version__ \u001b[38;5;241m=\u001b[39m (ROOT \u001b[38;5;241m/\u001b[39m \u001b[38;5;124m'\u001b[39m\u001b[38;5;124mVERSION\u001b[39m\u001b[38;5;124m'\u001b[39m)\u001b[38;5;241m.\u001b[39mread_text()\u001b[38;5;241m.\u001b[39mstrip()\n\u001b[0;32m     24\u001b[0m \u001b[38;5;66;03m# VERSION is used in the \"url\" module imported by \"surface\"\u001b[39;00m\n\u001b[1;32m---> 25\u001b[0m \u001b[38;5;28;01mfrom\u001b[39;00m\u001b[38;5;250m \u001b[39m\u001b[38;5;21;01m.\u001b[39;00m\u001b[38;5;250m \u001b[39m\u001b[38;5;28;01mimport\u001b[39;00m surface  \u001b[38;5;66;03m# noqa isort:skip\u001b[39;00m\n\u001b[0;32m     28\u001b[0m SURFACES \u001b[38;5;241m=\u001b[39m {\n\u001b[0;32m     29\u001b[0m     \u001b[38;5;124m'\u001b[39m\u001b[38;5;124mPDF\u001b[39m\u001b[38;5;124m'\u001b[39m: surface\u001b[38;5;241m.\u001b[39mPDFSurface,\n\u001b[0;32m     30\u001b[0m     \u001b[38;5;124m'\u001b[39m\u001b[38;5;124mPNG\u001b[39m\u001b[38;5;124m'\u001b[39m: surface\u001b[38;5;241m.\u001b[39mPNGSurface,\n\u001b[1;32m   (...)\u001b[0m\n\u001b[0;32m     33\u001b[0m     \u001b[38;5;124m'\u001b[39m\u001b[38;5;124mSVG\u001b[39m\u001b[38;5;124m'\u001b[39m: surface\u001b[38;5;241m.\u001b[39mSVGSurface,\n\u001b[0;32m     34\u001b[0m }\n\u001b[0;32m     37\u001b[0m \u001b[38;5;28;01mdef\u001b[39;00m\u001b[38;5;250m \u001b[39m\u001b[38;5;21msvg2svg\u001b[39m(bytestring\u001b[38;5;241m=\u001b[39m\u001b[38;5;28;01mNone\u001b[39;00m, \u001b[38;5;241m*\u001b[39m, file_obj\u001b[38;5;241m=\u001b[39m\u001b[38;5;28;01mNone\u001b[39;00m, url\u001b[38;5;241m=\u001b[39m\u001b[38;5;28;01mNone\u001b[39;00m, dpi\u001b[38;5;241m=\u001b[39m\u001b[38;5;241m96\u001b[39m,\n\u001b[0;32m     38\u001b[0m             parent_width\u001b[38;5;241m=\u001b[39m\u001b[38;5;28;01mNone\u001b[39;00m, parent_height\u001b[38;5;241m=\u001b[39m\u001b[38;5;28;01mNone\u001b[39;00m, scale\u001b[38;5;241m=\u001b[39m\u001b[38;5;241m1\u001b[39m, unsafe\u001b[38;5;241m=\u001b[39m\u001b[38;5;28;01mFalse\u001b[39;00m,\n\u001b[0;32m     39\u001b[0m             background_color\u001b[38;5;241m=\u001b[39m\u001b[38;5;28;01mNone\u001b[39;00m, negate_colors\u001b[38;5;241m=\u001b[39m\u001b[38;5;28;01mFalse\u001b[39;00m, invert_images\u001b[38;5;241m=\u001b[39m\u001b[38;5;28;01mFalse\u001b[39;00m,\n\u001b[0;32m     40\u001b[0m             write_to\u001b[38;5;241m=\u001b[39m\u001b[38;5;28;01mNone\u001b[39;00m, output_width\u001b[38;5;241m=\u001b[39m\u001b[38;5;28;01mNone\u001b[39;00m, output_height\u001b[38;5;241m=\u001b[39m\u001b[38;5;28;01mNone\u001b[39;00m):\n",
      "File \u001b[1;32m~\\OneDrive\\Desktop\\ML DS\\DS_project\\venv\\lib\\site-packages\\cairosvg\\surface.py:9\u001b[0m\n\u001b[0;32m      6\u001b[0m \u001b[38;5;28;01mimport\u001b[39;00m\u001b[38;5;250m \u001b[39m\u001b[38;5;21;01mcopy\u001b[39;00m\n\u001b[0;32m      7\u001b[0m \u001b[38;5;28;01mimport\u001b[39;00m\u001b[38;5;250m \u001b[39m\u001b[38;5;21;01mio\u001b[39;00m\n\u001b[1;32m----> 9\u001b[0m \u001b[38;5;28;01mimport\u001b[39;00m\u001b[38;5;250m \u001b[39m\u001b[38;5;21;01mcairocffi\u001b[39;00m\u001b[38;5;250m \u001b[39m\u001b[38;5;28;01mas\u001b[39;00m\u001b[38;5;250m \u001b[39m\u001b[38;5;21;01mcairo\u001b[39;00m\n\u001b[0;32m     11\u001b[0m \u001b[38;5;28;01mfrom\u001b[39;00m\u001b[38;5;250m \u001b[39m\u001b[38;5;21;01m.\u001b[39;00m\u001b[38;5;21;01mcolors\u001b[39;00m\u001b[38;5;250m \u001b[39m\u001b[38;5;28;01mimport\u001b[39;00m color, negate_color\n\u001b[0;32m     12\u001b[0m \u001b[38;5;28;01mfrom\u001b[39;00m\u001b[38;5;250m \u001b[39m\u001b[38;5;21;01m.\u001b[39;00m\u001b[38;5;21;01mdefs\u001b[39;00m\u001b[38;5;250m \u001b[39m\u001b[38;5;28;01mimport\u001b[39;00m (\n\u001b[0;32m     13\u001b[0m     apply_filter_after_painting, apply_filter_before_painting, clip_path,\n\u001b[0;32m     14\u001b[0m     filter_, gradient_or_pattern, linear_gradient, marker, mask, paint_mask,\n\u001b[0;32m     15\u001b[0m     parse_all_defs, pattern, prepare_filter, radial_gradient, use)\n",
      "File \u001b[1;32m~\\OneDrive\\Desktop\\ML DS\\DS_project\\venv\\lib\\site-packages\\cairocffi\\__init__.py:60\u001b[0m\n\u001b[0;32m     55\u001b[0m     error_message \u001b[38;5;241m=\u001b[39m \u001b[38;5;124m'\u001b[39m\u001b[38;5;130;01m\\n\u001b[39;00m\u001b[38;5;124m'\u001b[39m\u001b[38;5;241m.\u001b[39mjoin(  \u001b[38;5;66;03m# pragma: no cover\u001b[39;00m\n\u001b[0;32m     56\u001b[0m         \u001b[38;5;28mstr\u001b[39m(exception) \u001b[38;5;28;01mfor\u001b[39;00m exception \u001b[38;5;129;01min\u001b[39;00m exceptions)\n\u001b[0;32m     57\u001b[0m     \u001b[38;5;28;01mraise\u001b[39;00m \u001b[38;5;167;01mOSError\u001b[39;00m(error_message)  \u001b[38;5;66;03m# pragma: no cover\u001b[39;00m\n\u001b[1;32m---> 60\u001b[0m cairo \u001b[38;5;241m=\u001b[39m \u001b[43mdlopen\u001b[49m\u001b[43m(\u001b[49m\n\u001b[0;32m     61\u001b[0m \u001b[43m    \u001b[49m\u001b[43mffi\u001b[49m\u001b[43m,\u001b[49m\u001b[43m \u001b[49m\u001b[43m(\u001b[49m\u001b[38;5;124;43m'\u001b[39;49m\u001b[38;5;124;43mcairo-2\u001b[39;49m\u001b[38;5;124;43m'\u001b[39;49m\u001b[43m,\u001b[49m\u001b[43m \u001b[49m\u001b[38;5;124;43m'\u001b[39;49m\u001b[38;5;124;43mcairo\u001b[39;49m\u001b[38;5;124;43m'\u001b[39;49m\u001b[43m,\u001b[49m\u001b[43m \u001b[49m\u001b[38;5;124;43m'\u001b[39;49m\u001b[38;5;124;43mlibcairo-2\u001b[39;49m\u001b[38;5;124;43m'\u001b[39;49m\u001b[43m)\u001b[49m\u001b[43m,\u001b[49m\n\u001b[0;32m     62\u001b[0m \u001b[43m    \u001b[49m\u001b[43m(\u001b[49m\u001b[38;5;124;43m'\u001b[39;49m\u001b[38;5;124;43mlibcairo.so.2\u001b[39;49m\u001b[38;5;124;43m'\u001b[39;49m\u001b[43m,\u001b[49m\u001b[43m \u001b[49m\u001b[38;5;124;43m'\u001b[39;49m\u001b[38;5;124;43mlibcairo.2.dylib\u001b[39;49m\u001b[38;5;124;43m'\u001b[39;49m\u001b[43m,\u001b[49m\u001b[43m \u001b[49m\u001b[38;5;124;43m'\u001b[39;49m\u001b[38;5;124;43mlibcairo-2.dll\u001b[39;49m\u001b[38;5;124;43m'\u001b[39;49m\u001b[43m)\u001b[49m\u001b[43m)\u001b[49m\n\u001b[0;32m     65\u001b[0m \u001b[38;5;28;01mclass\u001b[39;00m\u001b[38;5;250m \u001b[39m\u001b[38;5;21;01m_keepref\u001b[39;00m(\u001b[38;5;28mobject\u001b[39m):  \u001b[38;5;66;03m# noqa: N801\u001b[39;00m\n\u001b[0;32m     66\u001b[0m \u001b[38;5;250m    \u001b[39m\u001b[38;5;124;03m\"\"\"Function wrapper that keeps a reference to another object.\"\"\"\u001b[39;00m\n",
      "File \u001b[1;32m~\\OneDrive\\Desktop\\ML DS\\DS_project\\venv\\lib\\site-packages\\cairocffi\\__init__.py:57\u001b[0m, in \u001b[0;36mdlopen\u001b[1;34m(ffi, library_names, filenames)\u001b[0m\n\u001b[0;32m     53\u001b[0m         exceptions\u001b[38;5;241m.\u001b[39mappend(exception)\n\u001b[0;32m     55\u001b[0m error_message \u001b[38;5;241m=\u001b[39m \u001b[38;5;124m'\u001b[39m\u001b[38;5;130;01m\\n\u001b[39;00m\u001b[38;5;124m'\u001b[39m\u001b[38;5;241m.\u001b[39mjoin(  \u001b[38;5;66;03m# pragma: no cover\u001b[39;00m\n\u001b[0;32m     56\u001b[0m     \u001b[38;5;28mstr\u001b[39m(exception) \u001b[38;5;28;01mfor\u001b[39;00m exception \u001b[38;5;129;01min\u001b[39;00m exceptions)\n\u001b[1;32m---> 57\u001b[0m \u001b[38;5;28;01mraise\u001b[39;00m \u001b[38;5;167;01mOSError\u001b[39;00m(error_message)\n",
      "\u001b[1;31mOSError\u001b[0m: no library called \"cairo-2\" was found\nno library called \"cairo\" was found\nno library called \"libcairo-2\" was found\ncannot load library 'libcairo.so.2': error 0x7e.  Additionally, ctypes.util.find_library() did not manage to locate a library called 'libcairo.so.2'\ncannot load library 'libcairo.2.dylib': error 0x7e.  Additionally, ctypes.util.find_library() did not manage to locate a library called 'libcairo.2.dylib'\ncannot load library 'libcairo-2.dll': error 0x7e.  Additionally, ctypes.util.find_library() did not manage to locate a library called 'libcairo-2.dll'"
     ]
    }
   ],
   "source": [
    "import os\n",
    "import cairosvg\n",
    "\n",
    "# Paths\n",
    "svg_folder = \"data/flags\"\n",
    "png_folder = \"data/flags_png\"\n",
    "\n",
    "# Create output folder if it doesn't exist\n",
    "os.makedirs(png_folder, exist_ok=True)\n",
    "\n",
    "# Iterate over SVG files and convert\n",
    "for file_name in os.listdir(svg_folder):\n",
    "    if file_name.lower().endswith(\".svg\"):\n",
    "        svg_path = os.path.join(svg_folder, file_name)\n",
    "        png_name = file_name.rsplit(\".\", 1)[0] + \".png\"\n",
    "        png_path = os.path.join(png_folder, png_name)\n",
    "\n",
    "        # Convert SVG to PNG\n",
    "        cairosvg.svg2png(url=svg_path, write_to=png_path, output_width=64, output_height=48)\n",
    "        print(f\"Converted {svg_path} → {png_path}\")\n",
    "\n",
    "print(\"All SVGs converted to PNG!\")\n"
   ]
  },
  {
   "cell_type": "code",
   "execution_count": null,
   "id": "7561dc68-975a-4deb-90e8-2b1ddcd3ed9d",
   "metadata": {},
   "outputs": [],
   "source": []
  }
 ],
 "metadata": {
  "kernelspec": {
   "display_name": "DS_Project (venv)",
   "language": "python",
   "name": "venv"
  },
  "language_info": {
   "codemirror_mode": {
    "name": "ipython",
    "version": 3
   },
   "file_extension": ".py",
   "mimetype": "text/x-python",
   "name": "python",
   "nbconvert_exporter": "python",
   "pygments_lexer": "ipython3",
   "version": "3.10.8"
  }
 },
 "nbformat": 4,
 "nbformat_minor": 5
}
